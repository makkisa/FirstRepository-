{
  "metadata": {
    "kernelspec": {
      "name": "python",
      "display_name": "Python (Pyodide)",
      "language": "python"
    },
    "language_info": {
      "codemirror_mode": {
        "name": "python",
        "version": 3
      },
      "file_extension": ".py",
      "mimetype": "text/x-python",
      "name": "python",
      "nbconvert_exporter": "python",
      "pygments_lexer": "ipython3",
      "version": "3.8"
    }
  },
  "nbformat_minor": 4,
  "nbformat": 4,
  "cells": [
    {
      "cell_type": "markdown",
      "source": "<div class=\"block alert-info\">\n<h1>Data Science Tools and Ecosystem.\n",
      "metadata": {}
    },
    {
      "cell_type": "markdown",
      "source": "<div class=\"block alert-info\">\n<h2> In this notebook, Data Science Tools and Ecosystem are summarized.</h2>\n</div>",
      "metadata": {}
    },
    {
      "cell_type": "markdown",
      "source": "<div class=\"block alert-info\">\n    <p>Some of the popular languages that Data Scientists use are:</p>\n<ol>\n  <li>Pyton</li>\n  <li>R</li>\n  <li>Java</li>\n      <li>scala</li>\n\n</ol>\n</div>",
      "metadata": {}
    },
    {
      "cell_type": "markdown",
      "source": "<div class=\"block alert-info\">\n    <p>Some of the commonly used libraries used by Data Scientists include:</p>\n<ol>\n  <li>Pandas</li>\n  <li>NumPy</li>\n  <li>Matplotlib</li>\n\n</ol>\n</div>",
      "metadata": {}
    },
    {
      "cell_type": "markdown",
      "source": "<div >\n  <table border=\"1\">\r\n  <tr>\r\n    <th>Data Science Tools</th>\r\n  </tr>\r\n  <tr>\r\n    <td>Jupyter Notebook</td>\r\n  </tr>\r\n  <tr>\r\n    <td>RStudio</td>\r\n  </tr>\r\n  <tr>\r\n    <td>Anaconda</td>\r\n  </tr>\r\n</table>\r\n\n  </tr>\r\n</table>\r\n co</td>\r\n  </tr>\r\n</table>\n</div>",
      "metadata": {}
    },
    {
      "cell_type": "markdown",
      "source": "<div class=\"block alert-info\">\n<h3>Below are a few examples of evaluating arithmetic expressions in Python.</h3>\n</div>",
      "metadata": {}
    },
    {
      "cell_type": "code",
      "source": "# This is a simple arithmetic expression to multiply \n#then add integers\n(3 * 4) + 5\n",
      "metadata": {
        "trusted": true
      },
      "outputs": [
        {
          "execution_count": 4,
          "output_type": "execute_result",
          "data": {
            "text/plain": "17"
          },
          "metadata": {}
        }
      ],
      "execution_count": 4
    },
    {
      "cell_type": "code",
      "source": "# This will convert 200 minutes to hours by dividing by 60\n200 / 60\n",
      "metadata": {
        "trusted": true
      },
      "outputs": [
        {
          "execution_count": 5,
          "output_type": "execute_result",
          "data": {
            "text/plain": "3.3333333333333335"
          },
          "metadata": {}
        }
      ],
      "execution_count": 5
    },
    {
      "cell_type": "markdown",
      "source": "<p><strong>Objectives:</strong></p>\n<ul>\n  <li>List popular languages for Data Science.</li>\n  <li>Outline commonly used Data Science libraries.</li>\n  <li>Highlight essential Data Science tools.</li>\n  <li>Demonstrate basic arithmetic operations in Python.</li>\n</ul>\n",
      "metadata": {}
    },
    {
      "cell_type": "markdown",
      "source": "<h2>Author</h2>\n<p>Makki Saud ALghamdi</p>\n",
      "metadata": {}
    }
  ]
}